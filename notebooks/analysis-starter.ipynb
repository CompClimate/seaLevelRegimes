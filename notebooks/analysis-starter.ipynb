{
 "cells": [
  {
   "cell_type": "markdown",
   "id": "0a2e93e4",
   "metadata": {},
   "source": [
    "# Starter coming soon!"
   ]
  },
  {
   "cell_type": "code",
   "execution_count": null,
   "id": "662831f3",
   "metadata": {},
   "outputs": [],
   "source": []
  },
  {
   "cell_type": "code",
   "execution_count": null,
   "id": "46b55fb0",
   "metadata": {},
   "outputs": [],
   "source": []
  },
  {
   "cell_type": "code",
   "execution_count": null,
   "id": "1cc7d007",
   "metadata": {},
   "outputs": [],
   "source": []
  }
 ],
 "metadata": {
  "language_info": {
   "name": "python"
  }
 },
 "nbformat": 4,
 "nbformat_minor": 5
}
